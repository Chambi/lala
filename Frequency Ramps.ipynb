{
 "metadata": {
  "name": "Frequency Ramps"
 },
 "nbformat": 3,
 "nbformat_minor": 0,
 "worksheets": [
  {
   "cells": [
    {
     "cell_type": "heading",
     "level": 1,
     "metadata": {},
     "source": [
      "Frequency Ramps"
     ]
    },
    {
     "cell_type": "code",
     "collapsed": false,
     "input": [
      "import panna as p\n",
      "from pylab import *\n",
      "p.show_n()"
     ],
     "language": "python",
     "metadata": {},
     "outputs": [
      {
       "output_type": "stream",
       "stream": "stdout",
       "text": [
        "access file  scope_11.csv  via index  0\n",
        "access file  scope_12.csv  via index  1\n",
        "access file  scope_13.csv  via index  2\n",
        "  in  ['+16.20000E-06', '', '', '\\n']  not floatable\n"
       ]
      },
      {
       "output_type": "stream",
       "stream": "stdout",
       "text": [
        "  in  ['+16.20000E-06', '', '', '\\n']  not floatable\n"
       ]
      },
      {
       "output_type": "stream",
       "stream": "stdout",
       "text": [
        "  in  ['+16.20000E-06', '', '', '\\n']  not floatable\n"
       ]
      },
      {
       "output_type": "stream",
       "stream": "stdout",
       "text": [
        "  in  ['+16.20000E-06', '', '', '\\n']  not floatable\n"
       ]
      },
      {
       "output_type": "stream",
       "stream": "stdout",
       "text": [
        "  in  ['+16.20000E-06', '', '', '\\n']  not floatable\n"
       ]
      },
      {
       "output_type": "stream",
       "stream": "stdout",
       "text": [
        "  in  ['+16.20000E-06', '', '', '\\n']  not floatable\n",
        "access file "
       ]
      },
      {
       "output_type": "stream",
       "stream": "stdout",
       "text": [
        " scope_11.csv  via index  0\n",
        "access file  scope_12.csv  via index  1\n",
        "access file  scope_13.csv  via index  2\n"
       ]
      }
     ],
     "prompt_number": 1
    },
    {
     "cell_type": "code",
     "collapsed": false,
     "input": [
      "\n",
      "def first_max(x, y, thresh, jump):\n",
      "\ti = 0\n",
      "\tup = []\n",
      "\twhile (i<=jump):\n",
      "\t\tup.append(0)\n",
      "\t\ti += 1\n",
      "\twhile (y[i] < thresh):\n",
      "\t\tup.append(0)\n",
      "\t\ti += 1\n",
      "\twhile (y[i] >= thresh):\n",
      "\t\tup.append(y[i])\n",
      "\t\tif i > (len(y) - 5):\n",
      "\t\t\ty[i+1] = 0\n",
      "\t\ti += 1\n",
      "\tfirst_max = list(up).index(max(up))\n",
      "\tjump_new = len(up)\n",
      "\treturn first_max, jump_new\n",
      "\n",
      "# calculates derivative\n",
      "def dy_dx(x,y):\n",
      "    dx = x[1::] - x[:-1] \n",
      "    dy = y[1::] - y[:-1]\n",
      "    timestep = (x[-1]-x[0])/(len(dx))\n",
      "    return x[:-1]+timestep/2., dy/dx\n",
      "\n",
      "# when rising trigger edge has maximum rising rate\n",
      "def find_trigger(time, trigger):\n",
      "    trigger_time, trigger_derivative = dy_dx(time,trigger)\n",
      "    trigger_derivative = list(trigger_derivative)\n",
      "    trigger_rise = trigger_derivative.index(min(trigger_derivative))\n",
      "    time_trigger_rise = trigger_time[trigger_rise]\n",
      "    return time_trigger_rise\n",
      "\n",
      "# cuts x and y array to a desired region (xmin, xmax)\n",
      "def lim_array(x,y,xmin,xmax):\n",
      "    ind_min = p.find_nearest(x,xmin)\n",
      "    ind_max = p.find_nearest(x,xmax)\n",
      "    x_new = x[ind_min:ind_max]\n",
      "    y_new = y[ind_min:ind_max]\n",
      "    return x_new, y_new\n",
      "\n",
      "# when trigger falls to 10% of final value on the rising edge\n",
      "def trigger_10(time, trigger):\n",
      "    maximum = max(trigger)\n",
      "    minimum = min(trigger)\n",
      "    p_10 = 0.1*(maximum-minimum)+minimum\n",
      "    # trigger on falling edge\n",
      "    t_ges = abs(time[-1]-time[0])\n",
      "    t_rise = find_trigger(time, trigger)\n",
      "    time_cut, trigger_cut = lim_array(time, trigger, t_rise-0.5*t_ges, t_rise+0.5*t_ges)\n",
      "    # find time for 90% reached on rising edge\n",
      "    ind_10 = p.find_nearest(trigger_cut, p_10)\n",
      "    return time_cut[ind_10]"
     ],
     "language": "python",
     "metadata": {},
     "outputs": [],
     "prompt_number": 2
    },
    {
     "cell_type": "code",
     "collapsed": false,
     "input": [
      "def single_fits(x, z, amp_beat):\n",
      "    jump = 0\n",
      "    ind = 0\n",
      "    maxima = []\n",
      "    while (ind < (len(x) - 100)):\n",
      "        ind, jump = first_max(x, z, amp_beat, jump) \n",
      "        maxima.append(ind)\n",
      "        plot(x[ind], z[ind], 'o')\n",
      "    times, frequencies = [], []\n",
      "    for ind in arange(0, len(maxima)-1):\n",
      "        x_fit = array(x[maxima[ind]:maxima[ind+1]])\n",
      "        frequencies.append(abs(1/(x_fit[0]-x_fit[-1])))\n",
      "        times.append(average(x_fit))\n",
      "    return times, frequencies"
     ],
     "language": "python",
     "metadata": {},
     "outputs": [],
     "prompt_number": 3
    },
    {
     "cell_type": "code",
     "collapsed": false,
     "input": [
      "import numpy as np\n",
      "from numpy import array\n",
      "from scipy import *\n",
      "from scipy import optimize\n",
      "from scipy.optimize import curve_fit"
     ],
     "language": "python",
     "metadata": {},
     "outputs": [],
     "prompt_number": 4
    },
    {
     "cell_type": "code",
     "collapsed": false,
     "input": [
      "# With single sin fits\n",
      "def single_fits(x, z, amp_beat):\n",
      "    jump = 0\n",
      "    ind = 0\n",
      "    maxima = []\n",
      "    while (ind < (len(x) - 100)):\n",
      "        ind, jump = first_max(x, z, amp_beat, jump)\n",
      "        maxima.append(ind)\n",
      "        plot(x[ind], z[ind], 'o')\n",
      "    times, frequencies = [], []\n",
      "    for ind in arange(0, len(maxima)-1):\n",
      "        x_fit = array(x[maxima[ind]:maxima[ind+1]])\n",
      "        z_fit = array(z[maxima[ind]:maxima[ind+1]])\n",
      "        #p0 = [max(z_fit)-min(z_fit), (x_fit[0]-x_fit[-1]), 90.0, (max(z_fit)-min(z_fit))/2+min(z_fit)]\n",
      "        #fitme = lambda x_fit, amp, period, phase, off: amp*np.sin(1/period*2*pi*x_fit+phase)+off\n",
      "        p0 = [(max(z_fit)-min(z_fit))/2, 1/abs((x_fit[0]-x_fit[-1])), 0, (max(z_fit)-min(z_fit))/2+min(z_fit)]\n",
      "        fitme = lambda x_fit, freq: p0[0]*np.cos(freq*2*pi*x_fit+p0[2])+p0[3]\n",
      "        try: \n",
      "            popt, pcov \t= curve_fit(fitme, array(x_fit-x_fit[0]), z_fit, p0[1])\n",
      "        except:\n",
      "            popt, pcov\t= p0, None\n",
      "        if pcov != None:\n",
      "            frequencies.append(abs(popt[0]))\n",
      "            times.append(average(x_fit))\n",
      "            #plot(x_fit, fitme(x_fit, pcov[0], pcov[1], pcov[2], pcov[3], pcov[4]))\n",
      "        #x_fit = array(x[maxima[ind]:maxima[ind+1]])\n",
      "        #frequencies.append(abs(1/(x_fit[0]-x_fit[-1])))\n",
      "        #times.append(average(x_fit))\n",
      "        else: \n",
      "            times.append(0)\n",
      "            frequencies.append(0)\n",
      "        plot(x_fit, fitme(x_fit-x_fit[0], popt[0])) #p0[1], p0[2]))\n",
      "    if all([element == 0 for element in times]): print \"failed\"\n",
      "    return times, frequencies"
     ],
     "language": "python",
     "metadata": {},
     "outputs": [],
     "prompt_number": 5
    },
    {
     "cell_type": "code",
     "collapsed": false,
     "input": [
      "n =  p.number_of_files()\n",
      "amp, Response, Time, Error, Delay, Trigger, t, f = [0]*n, [0]*n, [0]*n, [0]*n, [0]*n, [0]*n, [0]*n, [0]*n"
     ],
     "language": "python",
     "metadata": {},
     "outputs": [],
     "prompt_number": 6
    },
    {
     "cell_type": "code",
     "collapsed": false,
     "input": [
      "figure()\n",
      "i = 0\n",
      "plot(p.x[i], p.y[i])\n",
      "plot(p.x[i], p.z[i])\n",
      "plot(p.x[i], p.a[i])\n",
      "#plot(p.x[i], p.b[i])\n",
      "legend(['y','z','a'])\n",
      "show()"
     ],
     "language": "python",
     "metadata": {},
     "outputs": [],
     "prompt_number": 12
    },
    {
     "cell_type": "heading",
     "level": 3,
     "metadata": {},
     "source": [
      "scope 11"
     ]
    },
    {
     "cell_type": "code",
     "collapsed": false,
     "input": [
      "index = 0\n",
      "amp[index] = 0.04\n",
      "Response[index] = p.y[index]\n",
      "Time[index] = p.x[index]\n",
      "Trigger[index] = p.a[index]\n",
      "Error[index] = p.a[index]\n",
      "\n",
      "colormap = cm.gist_ncar\n",
      "\n",
      "figure()\n",
      "subplot(111)\n",
      "p.grey_title(r'Obtaining $f(t)$')\n",
      "xlabel(r'Time ($\\mu$s)')\n",
      "ylabel('Amplitude (V)')\n",
      "plot(Time[index], Trigger[index]/max(Trigger[index])*max(Response[index]), label = 'Trigger', color = 'grey')\n",
      "plot(Time[index], Response[index], label = 'Response', color = 'grey', alpha = 0.6)#colormap(0.75))\n",
      "p.colorcycle(200)\n",
      "p.scale_xaxis(subplot(111),1e6)\n",
      "single_fits(Time[index], Response[index], amp[index])\n",
      "show()"
     ],
     "language": "python",
     "metadata": {},
     "outputs": [],
     "prompt_number": 24
    },
    {
     "cell_type": "code",
     "collapsed": false,
     "input": [
      "index = 0\n",
      "amp[index] = 0.04\n",
      "Response[index] = p.y[index]\n",
      "Time[index] = p.x[index]\n",
      "Trigger[index] = p.a[index]\n",
      "Error[index] = p.a[index]\n",
      "\n",
      "figure()\n",
      "plot(Time[index], Response[index], label = 'Response')\n",
      "plot(Time[index], Trigger[index], label = 'Trigger')\n",
      "plot(Time[index], Error[index], label = 'Error')\n",
      "legend()\n",
      "p.colorcycle(4)\n",
      "\n",
      "Delay[index] = trigger_10(Time[index], Trigger[index])\n",
      "plot([Delay[index]]*len(Trigger[index]), Trigger[index], '--', color = 'grey')\n",
      "show()\n",
      "\n",
      "figure()\n",
      "\n",
      "colormap = cm.gist_ncar\n",
      "\n",
      "subplot(111)\n",
      "plot(Time[index], Response[index], label = 'beat signal', color = (0,1,0))\n",
      "single_fits(Time[index], Response[index], amp[index])\n",
      "show()\n",
      "\n",
      "t[index], f[index] = single_fits(Time[index], Response[index], amp[index])\n",
      "close()\n",
      "\n",
      "figure()\n",
      "\n",
      "A = subplot(111)\n",
      "ylim(0, 2000e3)\n",
      "plot(t[index]-Delay[index] , f[index] , 'o', color = colormap(0.75), label = 'beat sig. frequencies') \n",
      "ylabel('Frequency in Hz')\n",
      "\n",
      "\n",
      "B = twinx(A)\n",
      "plot(Time[index]-Delay[index], Error[index]/0.03)\n",
      "ylim(-90,90)\n",
      "\n",
      "xlim(0,75e-6)\n",
      "p.scale_xaxis(A,1e6)\n",
      "xlabel('time (s)')\n",
      "legend()\n",
      "show()"
     ],
     "language": "python",
     "metadata": {},
     "outputs": [
      {
       "output_type": "stream",
       "stream": "stderr",
       "text": [
        "C:\\Python27\\lib\\site-packages\\matplotlib\\axes.py:4442: UserWarning: No labeled objects found. Use label='...' kwarg on individual plots.\n",
        "  warnings.warn(\"No labeled objects found. \"\n"
       ]
      }
     ],
     "prompt_number": 16
    },
    {
     "cell_type": "heading",
     "level": 3,
     "metadata": {},
     "source": [
      "scope 76"
     ]
    },
    {
     "cell_type": "code",
     "collapsed": false,
     "input": [
      "index = 1\n",
      "amp[index] = 1.0\n",
      "Response[index] = p.z[index]\n",
      "Time[index] = p.x[index]\n",
      "Trigger[index] = p.b[index]\n",
      "Error[index] = p.a[index]\n",
      "\n",
      "\n",
      "figure()\n",
      "\n",
      "colormap = cm.gist_ncar\n",
      "\n",
      "subplot(111)\n",
      "\n",
      "plot(Time[index], Response[index], label = 'beat signal', color = colormap(0.75))\n",
      "p.colorcycle(100)\n",
      "single_fits(Time[index], Response[index], amp[index])\n",
      "show()"
     ],
     "language": "python",
     "metadata": {},
     "outputs": [],
     "prompt_number": 18
    },
    {
     "cell_type": "code",
     "collapsed": false,
     "input": [
      "index = 1\n",
      "amp[index] = 1.0\n",
      "Response[index] = p.z[index]\n",
      "Time[index] = p.x[index]\n",
      "Trigger[index] = p.b[index]\n",
      "Error[index] = p.a[index]\n",
      "\n",
      "figure()\n",
      "plot(Time[index], Response[index], label = 'Response')\n",
      "plot(Time[index], Trigger[index], label = 'Trigger')\n",
      "plot(Time[index], Error[index], label = 'Error')\n",
      "p.colorcycle(4)\n",
      "\n",
      "Delay[index] = trigger_10(Time[index], Trigger[index])\n",
      "plot([Delay[index]]*len(Trigger[index]), Trigger[index], '--', color = 'grey')\n",
      "show()\n",
      "\n",
      "figure()\n",
      "\n",
      "colormap = cm.gist_ncar\n",
      "\n",
      "subplot(111)\n",
      "plot(Time[index], Response[index], label = 'beat signal', color = (0,1,0))\n",
      "single_fits(Time[index], Response[index], amp[index])\n",
      "show()\n",
      "\n",
      "t[index], f[index] = single_fits(Time[index], Response[index], amp[index])\n",
      "close()\n",
      "\n",
      "figure()\n",
      "\n",
      "A = subplot(111)\n",
      "#ylim(0, 2000e3)\n",
      "plot(t[index]-Delay[index] , f[index] , 'o', color = colormap(0.75), label = 'beat sig. frequencies') \n",
      "ylabel('Frequency in Hz')\n",
      "\n",
      "\n",
      "B = twinx(A)\n",
      "plot(Time[index]-Delay[index], Error[index]/0.03)\n",
      "ylim(-90,90)\n",
      "\n",
      "#xlim(0,75e-6)\n",
      "p.scale_xaxis(A,1e6)\n",
      "xlabel('time (s)')\n",
      "legend()\n",
      "show()"
     ],
     "language": "python",
     "metadata": {},
     "outputs": [],
     "prompt_number": 16
    },
    {
     "cell_type": "code",
     "collapsed": false,
     "input": [
      "def implemented(trise, ffinal):\n",
      "    times = linspace(0, 100e-6,1000)\n",
      "    frequency = []\n",
      "    i = 0\n",
      "    time = times[i]\n",
      "    while time < trise:\n",
      "        time = times[i]\n",
      "        frequency.append(ffinal/trise*time)\n",
      "        i += 1\n",
      "    while time < times[-1]:\n",
      "        time = times[i]\n",
      "        frequency.append(ffinal)\n",
      "        i += 1\n",
      "    return array(times), array(frequency)"
     ],
     "language": "python",
     "metadata": {},
     "outputs": [],
     "prompt_number": 141
    },
    {
     "cell_type": "code",
     "collapsed": false,
     "input": [
      "def Time_Res(tarray):\n",
      "    return abs(tarray[-1]-tarray[0])/len(tarray)\n",
      "\n",
      "print Time_Res(Time[0])"
     ],
     "language": "python",
     "metadata": {},
     "outputs": [
      {
       "output_type": "stream",
       "stream": "stdout",
       "text": [
        "4.9974974975e-08\n"
       ]
      }
     ],
     "prompt_number": 142
    },
    {
     "cell_type": "code",
     "collapsed": false,
     "input": [
      "figure()\n",
      "A = subplot(111)\n",
      "p.grey_title(\"Frequency Ramps\")\n",
      "p.colorcycle(3)\n",
      "\n",
      "tset, fset = implemented(50e-6, 1e6)\n",
      "fill_between(tset, fset + Time_Res(Time[0])*fset**2, fset - Time_Res(Time[0])*fset**2, color = 'grey')\n",
      "plot(tset, fset, lw = 5)\n",
      "tset, fset = implemented(10e-6, 1e6)\n",
      "fill_between(tset, fset + Time_Res(Time[7])*fset**2, fset - Time_Res(Time[7])*fset**2, color = 'grey')\n",
      "plot(tset, fset, lw = 5)\n",
      "tset, fset = implemented(25e-6, 1e6)\n",
      "fill_between(tset, fset + Time_Res(Time[8])*fset**2, fset - Time_Res(Time[8])*fset**2, color = 'grey')\n",
      "plot(tset, fset, lw = 5)\n",
      "\n",
      "plot(t[0]-Delay[0], f[0], 'o')\n",
      "#errorbar(t[0]-Delay[0], f[0], yerr =Time_Res(Time[0])*array(f[0])**2, fmt = 'o')\n",
      "plot(t[7]-Delay[7], f[7], 'o')\n",
      "#errorbar(t[7]-Delay[7], f[7], yerr =Time_Res(Time[7])*array(f[7])**2, fmt = 'o')\n",
      "plot(t[8]-Delay[8], f[8], 'o')\n",
      "#errorbar(t[8]-Delay[8], f[8], yerr =Time_Res(Time[8])*array(f[8])**2, fmt = 'o')\n",
      "\n",
      "ylim(0,1.8e6)\n",
      "xlim(0,75e-6)\n",
      "\n",
      "p.scale_yaxis(subplot(111), 1e-6)\n",
      "\n",
      "xlabel(r'Time in $\\mu$s')\n",
      "ylabel('Frequency in MHz')\n",
      "\"\"\"\n",
      "B = twinx(A)\n",
      "p.colorcycle(3)\n",
      "plot(Time[0]-Delay[0], Error[0]/0.03)\n",
      "plot(Time[7]-Delay[7], Error[7]/0.03)\n",
      "plot(Time[8]-Delay[8], Error[8]/0.03)\n",
      "ylim(-180, 10)\n",
      "p.scale_xaxis(B, 1e6)\"\"\"\n",
      "\n",
      "p.scale_xaxis(A, 1e6)\n",
      "\n",
      "grid()\n",
      "\n",
      "show()"
     ],
     "language": "python",
     "metadata": {},
     "outputs": [],
     "prompt_number": 166
    },
    {
     "cell_type": "code",
     "collapsed": false,
     "input": [],
     "language": "python",
     "metadata": {},
     "outputs": []
    }
   ],
   "metadata": {}
  }
 ]
}